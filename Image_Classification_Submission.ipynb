{
  "nbformat": 4,
  "nbformat_minor": 0,
  "metadata": {
    "colab": {
      "name": "Image Classification Submission.ipynb",
      "provenance": []
    },
    "kernelspec": {
      "name": "python3",
      "display_name": "Python 3"
    }
  },
  "cells": [
    {
      "cell_type": "markdown",
      "metadata": {
        "id": "EMx1YvNzj1fG"
      },
      "source": [
        "Import Necessary Library:"
      ]
    },
    {
      "cell_type": "code",
      "metadata": {
        "id": "D4WDXNkPj0sn",
        "outputId": "90425886-fd0d-4463-8503-111ca21241d2",
        "colab": {
          "base_uri": "https://localhost:8080/",
          "height": 119
        }
      },
      "source": [
        "!pip install split-folders\n",
        "!pip install split-folders tqdm\n",
        "import tensorflow as tf\n",
        "from tensorflow.keras.preprocessing.image import ImageDataGenerator\n",
        "import zipfile,os\n",
        "import splitfolders\n",
        "import matplotlib.pyplot as plt"
      ],
      "execution_count": 2,
      "outputs": [
        {
          "output_type": "stream",
          "text": [
            "Collecting split-folders\n",
            "  Downloading https://files.pythonhosted.org/packages/d1/4b/7b282b0f9319189d71e803220748929b37d019b67b1782d14c59cb1bd940/split_folders-0.4.2-py3-none-any.whl\n",
            "Installing collected packages: split-folders\n",
            "Successfully installed split-folders-0.4.2\n",
            "Requirement already satisfied: split-folders in /usr/local/lib/python3.6/dist-packages (0.4.2)\n",
            "Requirement already satisfied: tqdm in /usr/local/lib/python3.6/dist-packages (4.41.1)\n"
          ],
          "name": "stdout"
        }
      ]
    },
    {
      "cell_type": "markdown",
      "metadata": {
        "id": "lpBykpF8lMBr"
      },
      "source": [
        "Import Dataset from Belajar Machine Learning untuk Pemula:"
      ]
    },
    {
      "cell_type": "code",
      "metadata": {
        "id": "t-uh8XMhkLm2",
        "outputId": "b61cb28b-a0b4-400f-8a98-b58401382823",
        "colab": {
          "base_uri": "https://localhost:8080/",
          "height": 204
        }
      },
      "source": [
        "!wget --no-check-certificate \\\n",
        "  https://dicodingacademy.blob.core.windows.net/picodiploma/ml_pemula_academy/rockpaperscissors.zip \\\n",
        "  -O /tmp/rockpaperscissors.zip"
      ],
      "execution_count": 3,
      "outputs": [
        {
          "output_type": "stream",
          "text": [
            "--2020-10-17 07:58:36--  https://dicodingacademy.blob.core.windows.net/picodiploma/ml_pemula_academy/rockpaperscissors.zip\n",
            "Resolving dicodingacademy.blob.core.windows.net (dicodingacademy.blob.core.windows.net)... 52.239.197.36\n",
            "Connecting to dicodingacademy.blob.core.windows.net (dicodingacademy.blob.core.windows.net)|52.239.197.36|:443... connected.\n",
            "HTTP request sent, awaiting response... 200 OK\n",
            "Length: 322873683 (308M) [application/zip]\n",
            "Saving to: ‘/tmp/rockpaperscissors.zip’\n",
            "\n",
            "/tmp/rockpapersciss 100%[===================>] 307.92M  8.70MB/s    in 40s     \n",
            "\n",
            "2020-10-17 07:59:17 (7.68 MB/s) - ‘/tmp/rockpaperscissors.zip’ saved [322873683/322873683]\n",
            "\n"
          ],
          "name": "stdout"
        }
      ]
    },
    {
      "cell_type": "code",
      "metadata": {
        "id": "8sLG7rkRjsMX",
        "outputId": "28a4ac81-8a11-45f7-f94e-e86eec210d36",
        "colab": {
          "base_uri": "https://localhost:8080/",
          "height": 34
        }
      },
      "source": [
        "local_file = '/tmp/rockpaperscissors.zip'\n",
        "zip_ref = zipfile.ZipFile(local_file, 'r')\n",
        "zip_ref.extractall('/tmp')\n",
        "zip_ref.close()\n",
        "os.listdir('/tmp')"
      ],
      "execution_count": 5,
      "outputs": [
        {
          "output_type": "execute_result",
          "data": {
            "text/plain": [
              "['rockpaperscissors.zip', '__MACOSX', 'rockpaperscissors']"
            ]
          },
          "metadata": {
            "tags": []
          },
          "execution_count": 5
        }
      ]
    },
    {
      "cell_type": "code",
      "metadata": {
        "id": "c5nSGK_8lCAK",
        "outputId": "a64a8087-7bd3-439c-a10e-fc86391ff998",
        "colab": {
          "base_uri": "https://localhost:8080/",
          "height": 34
        }
      },
      "source": [
        "splitfolders.ratio('/tmp/rockpaperscissors/rps-cv-images', \n",
        "                   output=\"/tmp/rockpaperscissors/\", \n",
        "                   seed=42, ratio=(.8, .2))\n",
        "\n",
        "base_dir = '/tmp/rockpaperscissors/'\n",
        "train_dir = os.path.join(base_dir, 'train')\n",
        "validation_dir = os.path.join(base_dir, 'val')"
      ],
      "execution_count": 8,
      "outputs": [
        {
          "output_type": "stream",
          "text": [
            "Copying files: 2188 files [00:00, 5632.58 files/s]\n"
          ],
          "name": "stderr"
        }
      ]
    },
    {
      "cell_type": "markdown",
      "metadata": {
        "id": "4rhAwCbpl-_F"
      },
      "source": [
        "Creating Directory for Training and Validation Data:"
      ]
    },
    {
      "cell_type": "code",
      "metadata": {
        "id": "rX6nc9GiluAe"
      },
      "source": [
        "train_scissor_dir = os.path.join(train_dir, 'scissors')\n",
        "train_paper_dir = os.path.join(train_dir, 'paper')\n",
        "train_rock_dir = os.path.join(train_dir, 'rock')\n",
        "\n",
        "validation_scissor_dir = os.path.join(validation_dir, 'scissors')\n",
        "validation_paper_dir = os.path.join(validation_dir, 'paper')\n",
        "validation_rock_dir = os.path.join(validation_dir, 'rock')"
      ],
      "execution_count": 9,
      "outputs": []
    },
    {
      "cell_type": "code",
      "metadata": {
        "id": "Pc2k6kYvmNWN"
      },
      "source": [
        "train_datagen = ImageDataGenerator(\n",
        "                    rescale=1./255,\n",
        "                    rotation_range=20,\n",
        "                    horizontal_flip=True,\n",
        "                    shear_range = 0.2,\n",
        "                    fill_mode = 'nearest')\n",
        "\n",
        "test_datagen = ImageDataGenerator(\n",
        "                    rescale=1./255,\n",
        "                    rotation_range=20,\n",
        "                    horizontal_flip=True,\n",
        "                    shear_range = 0.2,\n",
        "                    fill_mode = 'nearest')"
      ],
      "execution_count": 10,
      "outputs": []
    },
    {
      "cell_type": "code",
      "metadata": {
        "id": "XNe0C-qkmU2t",
        "outputId": "2b46c09f-f0b3-4028-e4fd-3e86cd3ba76e",
        "colab": {
          "base_uri": "https://localhost:8080/",
          "height": 51
        }
      },
      "source": [
        "train_generator = train_datagen.flow_from_directory(\n",
        "                      train_dir,\n",
        "                      target_size=(150,150),\n",
        "                      batch_size=4,\n",
        "                      class_mode='categorical')\n",
        "\n",
        "validation_generator = test_datagen.flow_from_directory(\n",
        "                          validation_dir,\n",
        "                          target_size=(150,150),\n",
        "                          batch_size=4,\n",
        "                          class_mode='categorical')"
      ],
      "execution_count": 11,
      "outputs": [
        {
          "output_type": "stream",
          "text": [
            "Found 1749 images belonging to 3 classes.\n",
            "Found 439 images belonging to 3 classes.\n"
          ],
          "name": "stdout"
        }
      ]
    },
    {
      "cell_type": "code",
      "metadata": {
        "id": "Sp5RLu7hzUij"
      },
      "source": [
        "model = tf.keras.models.Sequential([\n",
        "    tf.keras.layers.Conv2D(8, (3,3), activation='relu', input_shape=(150, 150, 3)),\n",
        "    tf.keras.layers.MaxPooling2D(2, 2),\n",
        "    tf.keras.layers.Conv2D(16, (3,3), activation='relu'),\n",
        "    tf.keras.layers.MaxPooling2D(2,2),\n",
        "    tf.keras.layers.Conv2D(32, (3,3), activation='relu'),\n",
        "    tf.keras.layers.MaxPooling2D(2,2),\n",
        "    tf.keras.layers.Conv2D(64, (3,3), activation='relu'),\n",
        "    tf.keras.layers.MaxPooling2D(2,2),\n",
        "    tf.keras.layers.Flatten(),\n",
        "    tf.keras.layers.Dense(128, activation='relu'),\n",
        "    tf.keras.layers.Dense(3, activation='softmax')\n",
        "])"
      ],
      "execution_count": 12,
      "outputs": []
    },
    {
      "cell_type": "code",
      "metadata": {
        "id": "JBhMdGQCzdkx"
      },
      "source": [
        "class myCallback(tf.keras.callbacks.Callback):\n",
        "  def on_epoch_end(self, epoch, logs={}):\n",
        "    if(logs.get('accuracy')>0.90 and logs.get('val_accuracy')>0.90):\n",
        "      print(\"\\nThe accuracy of the training set and validation set has reached > 90%\")\n",
        "      self.model.stop_training = True\n",
        "callbacks = myCallback()"
      ],
      "execution_count": 22,
      "outputs": []
    },
    {
      "cell_type": "code",
      "metadata": {
        "id": "2Oe2hLmUzx1R"
      },
      "source": [
        "model.compile(loss='categorical_crossentropy',\n",
        "              optimizer=tf.optimizers.Adam(),\n",
        "              metrics=['accuracy'])"
      ],
      "execution_count": 23,
      "outputs": []
    },
    {
      "cell_type": "code",
      "metadata": {
        "id": "C5e5e-mZz1mB",
        "outputId": "03d29ae9-50e1-4dfc-8812-9375beb59378",
        "colab": {
          "base_uri": "https://localhost:8080/",
          "height": 323
        }
      },
      "source": [
        "history = model.fit(\n",
        "            train_generator,\n",
        "            steps_per_epoch=25,  \n",
        "            epochs=20,\n",
        "            validation_data=validation_generator, \n",
        "            validation_steps=5, \n",
        "            callbacks=[callbacks], \n",
        "            verbose=2)"
      ],
      "execution_count": 24,
      "outputs": [
        {
          "output_type": "stream",
          "text": [
            "Epoch 1/20\n",
            "25/25 - 2s - loss: 0.4069 - accuracy: 0.8700 - val_loss: 0.4260 - val_accuracy: 0.8500\n",
            "Epoch 2/20\n",
            "25/25 - 2s - loss: 0.4172 - accuracy: 0.9381 - val_loss: 0.5114 - val_accuracy: 0.7500\n",
            "Epoch 3/20\n",
            "25/25 - 2s - loss: 0.1797 - accuracy: 0.9400 - val_loss: 0.2928 - val_accuracy: 0.8500\n",
            "Epoch 4/20\n",
            "25/25 - 2s - loss: 0.1895 - accuracy: 0.9500 - val_loss: 0.2105 - val_accuracy: 0.9000\n",
            "Epoch 5/20\n",
            "25/25 - 2s - loss: 0.1213 - accuracy: 0.9500 - val_loss: 0.3095 - val_accuracy: 0.9000\n",
            "Epoch 6/20\n",
            "25/25 - 2s - loss: 0.3945 - accuracy: 0.8400 - val_loss: 0.7501 - val_accuracy: 0.7000\n",
            "Epoch 7/20\n",
            "25/25 - 2s - loss: 0.2515 - accuracy: 0.9400 - val_loss: 0.2686 - val_accuracy: 0.9000\n",
            "Epoch 8/20\n",
            "\n",
            "The accuracy of the training set and validation set has reached > 90%\n",
            "25/25 - 2s - loss: 0.2030 - accuracy: 0.9100 - val_loss: 0.0579 - val_accuracy: 1.0000\n"
          ],
          "name": "stdout"
        }
      ]
    },
    {
      "cell_type": "code",
      "metadata": {
        "id": "mwW3wxF905Em",
        "outputId": "af08e03c-0935-4a91-ac7c-50ab2825250b",
        "colab": {
          "base_uri": "https://localhost:8080/",
          "height": 573
        }
      },
      "source": [
        "plt.plot(history.history['accuracy'])\n",
        "plt.plot(history.history['val_accuracy'])\n",
        "plt.title('Model Accuracy')\n",
        "plt.ylabel('accuracy')\n",
        "plt.xlabel('epoch')\n",
        "plt.legend(['train', 'test'], loc='lower right')\n",
        "plt.show()\n",
        "\n",
        "plt.plot(history.history['loss'])\n",
        "plt.plot(history.history['val_loss'])\n",
        "plt.title('Model Loss')\n",
        "plt.ylabel('loss')\n",
        "plt.xlabel('epoch')\n",
        "plt.legend(['train', 'test'], loc='upper right')\n",
        "plt.show()"
      ],
      "execution_count": 26,
      "outputs": [
        {
          "output_type": "display_data",
          "data": {
            "image/png": "[encoded data removed]",
            "text/plain": [
              "<Figure size 432x288 with 1 Axes>"
            ]
          },
          "metadata": {
            "tags": [],
            "needs_background": "light"
          }
        },
        {
          "output_type": "display_data",
          "data": {
            "image/png": "[encoded data removed]",
            "text/plain": [
              "<Figure size 432x288 with 1 Axes>"
            ]
          },
          "metadata": {
            "tags": [],
            "needs_background": "light"
          }
        }
      ]
    },
    {
      "cell_type": "markdown",
      "metadata": {
        "id": "HwccHuPt1ix_"
      },
      "source": [
        "Converting Model:"
      ]
    },
    {
      "cell_type": "code",
      "metadata": {
        "id": "owdisWof1RMx",
        "outputId": "881b09d9-54c1-40dd-c877-3311eb50eed7",
        "colab": {
          "base_uri": "https://localhost:8080/",
          "height": 156
        }
      },
      "source": [
        "converter = tf.lite.TFLiteConverter.from_keras_model(model)\n",
        "tflite_model = converter.convert()"
      ],
      "execution_count": 28,
      "outputs": [
        {
          "output_type": "stream",
          "text": [
            "WARNING:tensorflow:From /usr/local/lib/python3.6/dist-packages/tensorflow/python/training/tracking/tracking.py:111: Model.state_updates (from tensorflow.python.keras.engine.training) is deprecated and will be removed in a future version.\n",
            "Instructions for updating:\n",
            "This property should not be used in TensorFlow 2.0, as updates are applied automatically.\n",
            "WARNING:tensorflow:From /usr/local/lib/python3.6/dist-packages/tensorflow/python/training/tracking/tracking.py:111: Layer.updates (from tensorflow.python.keras.engine.base_layer) is deprecated and will be removed in a future version.\n",
            "Instructions for updating:\n",
            "This property should not be used in TensorFlow 2.0, as updates are applied automatically.\n",
            "INFO:tensorflow:Assets written to: /tmp/tmpy9kbf68a/assets\n"
          ],
          "name": "stdout"
        }
      ]
    },
    {
      "cell_type": "code",
      "metadata": {
        "id": "jk0kPoo11xhz"
      },
      "source": [
        "with tf.io.gfile.GFile('model.tflite', 'wb') as f:\n",
        "  f.write(tflite_model)"
      ],
      "execution_count": 29,
      "outputs": []
    }
  ]
}